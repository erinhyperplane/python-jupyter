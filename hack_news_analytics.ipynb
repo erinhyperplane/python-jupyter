{
 "cells": [
  {
   "cell_type": "markdown",
   "metadata": {},
   "source": [
    "## About this project\n",
    "\n",
    "### Goals\n",
    "The goal of this project is to understand 1. the popularity of __Ask HN__ and __Show HN__ session comparing with other hacker news sections, and 2. the pattern of people commenting on hacker news, whether there is a certain time that's more popular than other.\n",
    "\n",
    "\n",
    "### Questions\n",
    "\n",
    "    *Do Ask HN or Show HN receive more comments on average?\n",
    "    *Do posts created at a certain time receive more comments on average?\n",
    "\n",
    "\n",
    "### methodology\n",
    "We'll approach the problem by analyzing the number of comments.\n",
    "\n",
    "### data\n",
    "\n",
    "You can find the source data in this [Kaggle project](https://www.kaggle.com/hacker-news/hacker-news-posts).\n",
    "The original data set contains all hacker news post in 12 months, ending on September 26 2015. For our project, the data has been reduced from almost 300,000 rows to approximately 20,000 rows by removing all submissions that did not receive any comments, and then randomly sampling from the remaining submissions. \n",
    "\n",
    "Below are descriptions of the columns:\n",
    "\n",
    "-`id`: The unique identifier from Hacker News for the post\n",
    "\n",
    "-`title`: The title of the post\n",
    "\n",
    "-`url`: The URL that the posts links to, if it the post has a URL\n",
    "\n",
    "-`num_points`: The number of points the post acquired, calculated as the total number of upvotes minus the total number of downvotes\n",
    "\n",
    "-`num_comments`: The number of comments that were made on the post\n",
    "\n",
    "-`author`: The username of the person who submitted the post\n",
    "\n",
    "-`created_at`: The date and time at which the post was submitted\n"
   ]
  },
  {
   "cell_type": "code",
   "execution_count": 1,
   "metadata": {},
   "outputs": [],
   "source": [
    "# initialization\n",
    "\n",
    "from csv import reader\n",
    "opened_file = open('hacker_news.csv')\n",
    "read_file = reader(opened_file)\n",
    "\n",
    "hn = list(read_file)\n",
    "hn_header = hn[:1]\n",
    "hn_data = hn[1:]\n"
   ]
  },
  {
   "cell_type": "markdown",
   "metadata": {},
   "source": [
    "## Step 1: Data clean-up"
   ]
  },
  {
   "cell_type": "code",
   "execution_count": 2,
   "metadata": {},
   "outputs": [
    {
     "name": "stdout",
     "output_type": "stream",
     "text": [
      "<class 'list'>\n",
      "\n",
      " Length of the data set: 20101\n",
      "\n",
      " Data Header \n",
      " [['id', 'title', 'url', 'num_points', 'num_comments', 'author', 'created_at']]\n",
      "['12224879', 'Interactive Dynamic Video', 'http://www.interactivedynamicvideo.com/', '386', '52', 'ne0phyte', '8/4/2016 11:52']\n",
      "['10975351', 'How to Use Open Source and Shut the Fuck Up at the Same Time', 'http://hueniverse.com/2016/01/26/how-to-use-open-source-and-shut-the-fuck-up-at-the-same-time/', '39', '10', 'josep2', '1/26/2016 19:30']\n",
      "['11964716', \"Florida DJs May Face Felony for April Fools' Water Joke\", 'http://www.thewire.com/entertainment/2013/04/florida-djs-april-fools-water-joke/63798/', '2', '1', 'vezycash', '6/23/2016 22:20']\n",
      "['11919867', 'Technology ventures: From Idea to Enterprise', 'https://www.amazon.com/Technology-Ventures-Enterprise-Thomas-Byers/dp/0073523429', '3', '1', 'hswarna', '6/17/2016 0:01']\n",
      "['10301696', 'Note by Note: The Making of Steinway L1037 (2007)', 'http://www.nytimes.com/2007/11/07/movies/07stein.html?_r=0', '8', '2', 'walterbell', '9/30/2015 4:12']\n"
     ]
    }
   ],
   "source": [
    "# a first look at the data\n",
    "print(type(hn))\n",
    "print('\\n','Length of the data set:',len(hn))\n",
    "print('\\n','Data Header', '\\n', hn_header)\n",
    "\n",
    "for row in hn_data[:5]: \n",
    "    print(row)\n",
    "    "
   ]
  },
  {
   "cell_type": "markdown",
   "metadata": {},
   "source": [
    "### clean-up todo list: \n",
    "\n",
    "1. uniform caps - return all lowercases\n",
    "2. dates and time"
   ]
  },
  {
   "cell_type": "code",
   "execution_count": 3,
   "metadata": {},
   "outputs": [
    {
     "name": "stdout",
     "output_type": "stream",
     "text": [
      "number of uppercase: 1742 lowercase: 1\n"
     ]
    }
   ],
   "source": [
    "\n",
    "upperCaseNum = 0\n",
    "lowerCaseNum = 0\n",
    "for row in hn_data:\n",
    "    \n",
    "    titleName = row[1]\n",
    "    if \"Ask HN\" in titleName: \n",
    "        upperCaseNum += 1\n",
    "    elif \"ask HN\" in titleName:\n",
    "        lowerCaseNum += 1\n",
    "        \n",
    "print('number of uppercase:',upperCaseNum, 'lowercase:',lowerCaseNum)\n",
    "\n",
    "\n",
    "# convert all to lowerCase: \n",
    "for row in hn_data:\n",
    "    titleName = row[1]\n",
    "    row[1] = titleName.lower()\n",
    "# print(hn_data[1][1])\n",
    "# print(hn_data[300][1])\n",
    "\n",
    "        "
   ]
  },
  {
   "cell_type": "markdown",
   "metadata": {},
   "source": [
    "## Step 2: Analyze `Ask HN` and `Show HN` comments\n",
    "`title` : row[1]\n",
    "\n",
    "`num_comments` : row[4]"
   ]
  },
  {
   "cell_type": "code",
   "execution_count": 4,
   "metadata": {},
   "outputs": [
    {
     "name": "stdout",
     "output_type": "stream",
     "text": [
      "number of ask_hn: 1745\n",
      "number of show_hn: 1165\n",
      "number of other_hn: 17190\n",
      "ask posts percentage: 8.681592039800995 %\n",
      "show posts percentage: 5.796019900497512 %\n"
     ]
    }
   ],
   "source": [
    "# ask_posts, show_posts, and other_posts.\n",
    "ask_posts = []\n",
    "show_posts = []\n",
    "other_posts = []\n",
    "\n",
    "for row in hn_data:\n",
    "    titleName = row[1]\n",
    "    if \"ask hn\" in titleName: \n",
    "        ask_posts.append(row)\n",
    "    elif \"show hn\" in titleName:\n",
    "        show_posts.append(row)\n",
    "    else: \n",
    "        other_posts.append(row)\n",
    "print('number of ask_hn:', len(ask_posts))\n",
    "print('number of show_hn:',len(show_posts))\n",
    "print('number of other_hn:',len(other_posts))\n",
    "\n",
    "# print(ask_posts[1][4])\n",
    "# print(show_posts[5][4])\n",
    "\n",
    "print('ask posts percentage:',len(ask_posts)/(len(ask_posts)+len(show_posts)+len(other_posts))*100,'%')\n",
    "print('show posts percentage:',len(show_posts)/(len(ask_posts)+len(show_posts)+len(other_posts))*100,'%')\n"
   ]
  },
  {
   "cell_type": "code",
   "execution_count": 5,
   "metadata": {},
   "outputs": [
    {
     "name": "stdout",
     "output_type": "stream",
     "text": [
      "ASK hn average comments per post: 14.031518624641834\n",
      "SHOW hn average comments per post: 10.302145922746782\n",
      "OTHER posts average comments per post: 26.878359511343806\n"
     ]
    }
   ],
   "source": [
    "# analyze the average number of comments for each section\n",
    "\n",
    "def avgComments(postList):\n",
    "    listName = postList\n",
    "    totalRows = 0\n",
    "    totalComments = 0\n",
    "    for row in postList:\n",
    "        numComments = float(row[4])\n",
    "        totalRows += 1\n",
    "        totalComments += numComments\n",
    "    return totalComments/totalRows\n",
    "\n",
    "print('ASK hn average comments per post:',avgComments(ask_posts))\n",
    "print('SHOW hn average comments per post:',avgComments(show_posts))\n",
    "print('OTHER posts average comments per post:',avgComments(other_posts))"
   ]
  },
  {
   "cell_type": "markdown",
   "metadata": {},
   "source": [
    "####  Summary:\n",
    "`ask_hn` and `show_hn` consists of around 14% of the total hacker news posts; comparatively, the average comments for those two sessions are around half of the average comments per other post. "
   ]
  },
  {
   "cell_type": "markdown",
   "metadata": {},
   "source": [
    "## Step 3: Analyze the most popular time of comments\n",
    "`num_comments`: row[4]\n",
    "\n",
    "`created_at`: row[-1]"
   ]
  },
  {
   "cell_type": "markdown",
   "metadata": {},
   "source": [
    "Since ask posts are more likely to receive comments, we'll focus our remaining analysis just on these posts.\n",
    "\n",
    "Next, we'll determine if ask posts created at a certain time are more likely to attract comments. We'll use the following steps to perform this analysis:\n",
    "\n",
    "    Calculate the amount of ask posts created in each hour of the day, along with the number of comments received.\n",
    "    Calculate the average number of comments ask posts receive by hour created.\n"
   ]
  },
  {
   "cell_type": "code",
   "execution_count": 6,
   "metadata": {},
   "outputs": [
    {
     "name": "stdout",
     "output_type": "stream",
     "text": [
      "sample date format: 6/23/2016 22:20\n",
      "[['8/4/2016 11:52', '52'], ['1/26/2016 19:30', '10'], ['6/23/2016 22:20', '1'], ['6/17/2016 0:01', '1'], ['9/30/2015 4:12', '2'], ['10/31/2015 9:48', '22'], ['11/13/2015 0:45', '4'], ['8/16/2016 9:55', '6'], ['3/22/2016 16:18', '7'], ['10/13/2015 9:30', '10']]\n"
     ]
    }
   ],
   "source": [
    "# calculate the ask posts created in each hour of the day\n",
    "print('sample date format:',hn_data[2][-1])\n",
    "\n",
    "import datetime as dt\n",
    "# for row in hn_data:\n",
    "#     timeCreated = row[-1]\n",
    "#     timeCreatedParsed = dt.datetime.strptime(timeCreated, \"%m/%d/%Y %H:%M\")\n",
    "\n",
    "# created a new list with two elements: created_at & number of comments\n",
    "result_list = []\n",
    "for row in hn_data:\n",
    "    timeCreated = row[-1]\n",
    "    numComments = row[4]\n",
    "    result_list.append([timeCreated,numComments])\n",
    "print(result_list[:10])\n",
    "\n"
   ]
  },
  {
   "cell_type": "code",
   "execution_count": 7,
   "metadata": {},
   "outputs": [
    {
     "name": "stdout",
     "output_type": "stream",
     "text": [
      "{11: 762, 19: 1145, 22: 875, 0: 697, 4: 527, 9: 609, 16: 1302, 18: 1254, 14: 1151, 10: 686, 12: 923, 13: 1102, 20: 1051, 3: 488, 17: 1362, 1: 588, 23: 778, 8: 578, 2: 529, 21: 1030, 15: 1234, 6: 468, 7: 508, 5: 453}\n",
      "\n",
      "\n",
      "{11: 20664.0, 19: 27894.0, 22: 18684.0, 0: 17478.0, 4: 11537.0, 9: 15274.0, 16: 30857.0, 18: 31587.0, 14: 33545.0, 10: 16818.0, 12: 25351.0, 13: 30562.0, 20: 23414.0, 3: 11626.0, 17: 34784.0, 1: 12465.0, 23: 17582.0, 8: 14062.0, 2: 13762.0, 21: 22652.0, 15: 35809.0, 6: 9253.0, 7: 12576.0, 5: 10290.0}\n"
     ]
    }
   ],
   "source": [
    "## total amount of ask posts per hour - `counts_by_hour`\n",
    "# total amount of comments from ask posts per hour - `comments_by_hour`\n",
    "\n",
    "counts_per_hour = {}\n",
    "comments_per_hour = {}\n",
    "for row in result_list:\n",
    "    createdTime = row[0]\n",
    "    numComments = float(row[1])\n",
    "    dtObject = dt.datetime.strptime(createdTime, \"%m/%d/%Y %H:%M\")\n",
    "    createdHour = dtObject.hour\n",
    "    if createdHour not in counts_per_hour:\n",
    "        counts_per_hour[createdHour] = 1\n",
    "        comments_per_hour[createdHour] = numComments\n",
    "    else: \n",
    "        counts_per_hour[createdHour] += 1\n",
    "        comments_per_hour[createdHour] += numComments\n",
    "\n",
    "print(counts_per_hour)\n",
    "print('\\n')\n",
    "print(comments_per_hour)   \n"
   ]
  },
  {
   "cell_type": "markdown",
   "metadata": {},
   "source": [
    "#### Next, we'll use these two dictionaries to calculate the average number of comments for posts created during each hour of the day. "
   ]
  },
  {
   "cell_type": "code",
   "execution_count": 8,
   "metadata": {
    "scrolled": true
   },
   "outputs": [
    {
     "name": "stdout",
     "output_type": "stream",
     "text": [
      "11 o'clock: 27.118110236220474\n",
      "\n",
      "\n",
      "19 o'clock: 24.361572052401748\n",
      "\n",
      "\n",
      "22 o'clock: 21.353142857142856\n",
      "\n",
      "\n",
      "0 o'clock: 25.076040172166426\n",
      "\n",
      "\n",
      "4 o'clock: 21.891840607210625\n",
      "\n",
      "\n",
      "9 o'clock: 25.080459770114942\n",
      "\n",
      "\n",
      "16 o'clock: 23.69969278033794\n",
      "\n",
      "\n",
      "18 o'clock: 25.188995215311003\n",
      "\n",
      "\n",
      "14 o'clock: 29.14422241529105\n",
      "\n",
      "\n",
      "10 o'clock: 24.516034985422742\n",
      "\n",
      "\n",
      "12 o'clock: 27.465872156013003\n",
      "\n",
      "\n",
      "13 o'clock: 27.733212341197824\n",
      "\n",
      "\n",
      "20 o'clock: 22.27783063748811\n",
      "\n",
      "\n",
      "3 o'clock: 23.82377049180328\n",
      "\n",
      "\n",
      "17 o'clock: 25.53891336270191\n",
      "\n",
      "\n",
      "1 o'clock: 21.198979591836736\n",
      "\n",
      "\n",
      "23 o'clock: 22.59897172236504\n",
      "\n",
      "\n",
      "8 o'clock: 24.32871972318339\n",
      "\n",
      "\n",
      "2 o'clock: 26.015122873345934\n",
      "\n",
      "\n",
      "21 o'clock: 21.992233009708738\n",
      "\n",
      "\n",
      "15 o'clock: 29.01863857374392\n",
      "\n",
      "\n",
      "6 o'clock: 19.771367521367523\n",
      "\n",
      "\n",
      "7 o'clock: 24.755905511811022\n",
      "\n",
      "\n",
      "5 o'clock: 22.71523178807947\n",
      "\n",
      "\n"
     ]
    }
   ],
   "source": [
    "for hourKey in counts_per_hour:\n",
    "    avgComments = comments_per_hour[hourKey]/counts_per_hour[hourKey]\n",
    "    \n",
    "    print(hourKey, 'o\\'clock:', avgComments)\n",
    "    print('\\n')"
   ]
  },
  {
   "cell_type": "code",
   "execution_count": 9,
   "metadata": {},
   "outputs": [
    {
     "name": "stdout",
     "output_type": "stream",
     "text": [
      "[[11, 27.118110236220474], [19, 24.361572052401748], [22, 21.353142857142856], [0, 25.076040172166426], [4, 21.891840607210625], [9, 25.080459770114942], [16, 23.69969278033794], [18, 25.188995215311003], [14, 29.14422241529105], [10, 24.516034985422742], [12, 27.465872156013003], [13, 27.733212341197824], [20, 22.27783063748811], [3, 23.82377049180328], [17, 25.53891336270191], [1, 21.198979591836736], [23, 22.59897172236504], [8, 24.32871972318339], [2, 26.015122873345934], [21, 21.992233009708738], [15, 29.01863857374392], [6, 19.771367521367523], [7, 24.755905511811022], [5, 22.71523178807947]]\n"
     ]
    }
   ],
   "source": [
    "# create a list with hour and comments number so we can sort later.\n",
    "avg_by_hour = []\n",
    "\n",
    "for hour in counts_per_hour:\n",
    "    avg_by_hour.append([hour,comments_per_hour[hour]/counts_per_hour[hour]])\n",
    "print(avg_by_hour)"
   ]
  },
  {
   "cell_type": "code",
   "execution_count": 10,
   "metadata": {},
   "outputs": [
    {
     "name": "stdout",
     "output_type": "stream",
     "text": [
      "Sorted table for average comments per hour\n",
      "[[29.14422241529105, 14], [29.01863857374392, 15], [27.733212341197824, 13], [27.465872156013003, 12], [27.118110236220474, 11], [26.015122873345934, 2], [25.53891336270191, 17], [25.188995215311003, 18], [25.080459770114942, 9], [25.076040172166426, 0], [24.755905511811022, 7], [24.516034985422742, 10], [24.361572052401748, 19], [24.32871972318339, 8], [23.82377049180328, 3], [23.69969278033794, 16], [22.71523178807947, 5], [22.59897172236504, 23], [22.27783063748811, 20], [21.992233009708738, 21], [21.891840607210625, 4], [21.353142857142856, 22], [21.198979591836736, 1], [19.771367521367523, 6]]\n",
      "\n",
      "\n",
      "Top five hacker news commenting hour\n",
      "14:00: 29.14 average comments per post\n",
      "15:00: 29.02 average comments per post\n",
      "13:00: 27.73 average comments per post\n",
      "12:00: 27.47 average comments per post\n",
      "11:00: 27.12 average comments per post\n"
     ]
    }
   ],
   "source": [
    "# formatting\n",
    "\n",
    "#swap the two elements in the list so we can sort by first element (avg comments)\n",
    "swap_avg_by_hour = []\n",
    "for row in avg_by_hour:\n",
    "    firstElement = row[0]\n",
    "    secondElement = row[1]\n",
    "    swap_avg_by_hour.append([secondElement, firstElement])\n",
    "# print(swap_avg_by_hour)\n",
    "\n",
    "sortedByComments = sorted(swap_avg_by_hour,reverse = True)\n",
    "print('Sorted table for average comments per hour')\n",
    "print(sortedByComments)\n",
    "\n",
    "print('\\n')\n",
    "print('Top five hacker news commenting hour')\n",
    "for data in sortedByComments[:5]:\n",
    "    formatTime = dt.datetime.strptime(str(data[1]),\"%H\").strftime(\"%H:%M\")\n",
    "    template = \"{time}: {number:.2f} average comments per post\".format(time= formatTime, number = data[0] )\n",
    "    print(template)"
   ]
  },
  {
   "cell_type": "markdown",
   "metadata": {},
   "source": [
    "### Summary: \n",
    "The average number of comments are fairly evenly distributed throughout the day(by hour). From the analysis, the most popular commenting hour is 2pm and 3pm, with 6am being the least popular commenting hour."
   ]
  }
 ],
 "metadata": {
  "kernelspec": {
   "display_name": "Python 3",
   "language": "python",
   "name": "python3"
  },
  "language_info": {
   "codemirror_mode": {
    "name": "ipython",
    "version": 3
   },
   "file_extension": ".py",
   "mimetype": "text/x-python",
   "name": "python",
   "nbconvert_exporter": "python",
   "pygments_lexer": "ipython3",
   "version": "3.7.4"
  }
 },
 "nbformat": 4,
 "nbformat_minor": 2
}
