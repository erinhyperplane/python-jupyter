{
 "cells": [
  {
   "cell_type": "markdown",
   "metadata": {},
   "source": [
    "# About this project\n",
    "\n",
    "## the goal\n",
    "\n",
    "To understand the landscape of cars sold on ebay by asking the following questions:\n",
    "1. what brand is most popular (by nums of ads posted) during this time on ebay?\n",
    "2. what's the top 10 most expensive/cheap car sold? Understand their information and seek potential patterns (print registration year, vehicle_type, price, brand, odometer_km, ad_created)\n",
    "3. For buyers, find the top 10 most economical deals during this time. (the cars with lowest $dollar/mile, assuming each car can run up to 200,000 miles)\n",
    "\n",
    "## the approach\n",
    "\n",
    "## data source\n",
    "\n",
    "The data is originally scraped and uploaded to [Kaggle](https://www.kaggle.com/orgesleka/used-cars-database/data). [DataQuest](https://app.dataquest.io/m/294/guided-project%3A-exploring-ebay-car-sales-data/1/introduction) made a few modifications from the original dataset that was uploaded to Kaggle:\n",
    "\n",
    "    - sampled 50,000 data points from the full dataset\n",
    "    - dirtied the dataset a bit to more closely resemble what you would expect from a scraped dataset (the version uploaded to Kaggle was cleaned to be easier to work with)\n",
    "\n"
   ]
  },
  {
   "cell_type": "markdown",
   "metadata": {},
   "source": [
    "# Data importing & cleaning"
   ]
  },
  {
   "cell_type": "code",
   "execution_count": 1,
   "metadata": {},
   "outputs": [
    {
     "name": "stdout",
     "output_type": "stream",
     "text": [
      "<class 'pandas.core.frame.DataFrame'>\n",
      "RangeIndex: 50000 entries, 0 to 49999\n",
      "Data columns (total 20 columns):\n",
      "dateCrawled            50000 non-null object\n",
      "name                   50000 non-null object\n",
      "seller                 50000 non-null object\n",
      "offerType              50000 non-null object\n",
      "price                  50000 non-null object\n",
      "abtest                 50000 non-null object\n",
      "vehicleType            44905 non-null object\n",
      "yearOfRegistration     50000 non-null int64\n",
      "gearbox                47320 non-null object\n",
      "powerPS                50000 non-null int64\n",
      "model                  47242 non-null object\n",
      "odometer               50000 non-null object\n",
      "monthOfRegistration    50000 non-null int64\n",
      "fuelType               45518 non-null object\n",
      "brand                  50000 non-null object\n",
      "notRepairedDamage      40171 non-null object\n",
      "dateCreated            50000 non-null object\n",
      "nrOfPictures           50000 non-null int64\n",
      "postalCode             50000 non-null int64\n",
      "lastSeen               50000 non-null object\n",
      "dtypes: int64(5), object(15)\n",
      "memory usage: 7.6+ MB\n"
     ]
    },
    {
     "data": {
      "text/html": [
       "<div>\n",
       "<style scoped>\n",
       "    .dataframe tbody tr th:only-of-type {\n",
       "        vertical-align: middle;\n",
       "    }\n",
       "\n",
       "    .dataframe tbody tr th {\n",
       "        vertical-align: top;\n",
       "    }\n",
       "\n",
       "    .dataframe thead th {\n",
       "        text-align: right;\n",
       "    }\n",
       "</style>\n",
       "<table border=\"1\" class=\"dataframe\">\n",
       "  <thead>\n",
       "    <tr style=\"text-align: right;\">\n",
       "      <th></th>\n",
       "      <th>yearOfRegistration</th>\n",
       "      <th>powerPS</th>\n",
       "      <th>monthOfRegistration</th>\n",
       "      <th>nrOfPictures</th>\n",
       "      <th>postalCode</th>\n",
       "    </tr>\n",
       "  </thead>\n",
       "  <tbody>\n",
       "    <tr>\n",
       "      <td>count</td>\n",
       "      <td>50000.000000</td>\n",
       "      <td>50000.000000</td>\n",
       "      <td>50000.000000</td>\n",
       "      <td>50000.0</td>\n",
       "      <td>50000.000000</td>\n",
       "    </tr>\n",
       "    <tr>\n",
       "      <td>mean</td>\n",
       "      <td>2005.073280</td>\n",
       "      <td>116.355920</td>\n",
       "      <td>5.723360</td>\n",
       "      <td>0.0</td>\n",
       "      <td>50813.627300</td>\n",
       "    </tr>\n",
       "    <tr>\n",
       "      <td>std</td>\n",
       "      <td>105.712813</td>\n",
       "      <td>209.216627</td>\n",
       "      <td>3.711984</td>\n",
       "      <td>0.0</td>\n",
       "      <td>25779.747957</td>\n",
       "    </tr>\n",
       "    <tr>\n",
       "      <td>min</td>\n",
       "      <td>1000.000000</td>\n",
       "      <td>0.000000</td>\n",
       "      <td>0.000000</td>\n",
       "      <td>0.0</td>\n",
       "      <td>1067.000000</td>\n",
       "    </tr>\n",
       "    <tr>\n",
       "      <td>25%</td>\n",
       "      <td>1999.000000</td>\n",
       "      <td>70.000000</td>\n",
       "      <td>3.000000</td>\n",
       "      <td>0.0</td>\n",
       "      <td>30451.000000</td>\n",
       "    </tr>\n",
       "    <tr>\n",
       "      <td>50%</td>\n",
       "      <td>2003.000000</td>\n",
       "      <td>105.000000</td>\n",
       "      <td>6.000000</td>\n",
       "      <td>0.0</td>\n",
       "      <td>49577.000000</td>\n",
       "    </tr>\n",
       "    <tr>\n",
       "      <td>75%</td>\n",
       "      <td>2008.000000</td>\n",
       "      <td>150.000000</td>\n",
       "      <td>9.000000</td>\n",
       "      <td>0.0</td>\n",
       "      <td>71540.000000</td>\n",
       "    </tr>\n",
       "    <tr>\n",
       "      <td>max</td>\n",
       "      <td>9999.000000</td>\n",
       "      <td>17700.000000</td>\n",
       "      <td>12.000000</td>\n",
       "      <td>0.0</td>\n",
       "      <td>99998.000000</td>\n",
       "    </tr>\n",
       "  </tbody>\n",
       "</table>\n",
       "</div>"
      ],
      "text/plain": [
       "       yearOfRegistration       powerPS  monthOfRegistration  nrOfPictures  \\\n",
       "count        50000.000000  50000.000000         50000.000000       50000.0   \n",
       "mean          2005.073280    116.355920             5.723360           0.0   \n",
       "std            105.712813    209.216627             3.711984           0.0   \n",
       "min           1000.000000      0.000000             0.000000           0.0   \n",
       "25%           1999.000000     70.000000             3.000000           0.0   \n",
       "50%           2003.000000    105.000000             6.000000           0.0   \n",
       "75%           2008.000000    150.000000             9.000000           0.0   \n",
       "max           9999.000000  17700.000000            12.000000           0.0   \n",
       "\n",
       "         postalCode  \n",
       "count  50000.000000  \n",
       "mean   50813.627300  \n",
       "std    25779.747957  \n",
       "min     1067.000000  \n",
       "25%    30451.000000  \n",
       "50%    49577.000000  \n",
       "75%    71540.000000  \n",
       "max    99998.000000  "
      ]
     },
     "execution_count": 1,
     "metadata": {},
     "output_type": "execute_result"
    }
   ],
   "source": [
    "# import data\n",
    "import pandas as pd\n",
    "import numpy as np\n",
    "\n",
    "autos = pd.read_csv('autos.csv',encoding=\"Latin-1\")\n",
    "#print(autos)\n",
    "\n",
    "# a basic understanding of our dataset\n",
    "autos.info()\n",
    "autos.describe()\n"
   ]
  },
  {
   "cell_type": "markdown",
   "metadata": {},
   "source": [
    "### Observations:\n",
    "\n",
    "1. columns with null values include: `vehicleType`,`gearbox`,`model`,`fuelType`and `notRepairedDamage`\n",
    "2. problematic data include: \n",
    "-`yearOfRegistration`- minimum is 1000, which is not possible;\n",
    "-`monthOfRegistration`-minimum is 0, not within 1-12\n",
    "3. `price` and `odometer` column should also be converted to a float datatype.\n",
    "4. The column names use camelcase instead of Python's preferred snakecase, which means we can't just replace spaces with underscores.\n"
   ]
  },
  {
   "cell_type": "code",
   "execution_count": 2,
   "metadata": {},
   "outputs": [],
   "source": [
    "# cleanup step 1: \n",
    "# convert the column names from camelcase to snakecase and \n",
    "# reword some of the column names based on the data dictionary to be more descriptive\n",
    "\n",
    "autos.columns\n",
    "\n",
    "modified_column_list = ['date_crawled', 'name', 'seller', 'offer_type', 'price', 'abtest',\n",
    "       'vehicle_type', 'registration_year', 'gearbox', 'powerPS', 'model',\n",
    "       'odometer', 'registration_month', 'fuel_type', 'brand',\n",
    "       'unrepaired_damage', 'ad_created', 'nr_of_pictures', 'postal_code',\n",
    "       'last_seen']\n",
    "\n",
    "autos.columns = modified_column_list"
   ]
  },
  {
   "cell_type": "code",
   "execution_count": 3,
   "metadata": {},
   "outputs": [],
   "source": [
    "# cleanup step 2: convert price and odemeter columns to float, and rename the columns for clarity\n",
    "\n",
    "\n",
    "autos[\"price\"] = autos[\"price\"].str.replace(\"$\",\"\").str.replace(\",\",\"\").astype(int)\n",
    "autos[\"odometer\"] = autos[\"odometer\"].str.replace(\"km\",\"\").str.replace(\",\",\"\").astype(int)\n",
    "\n",
    "\n"
   ]
  },
  {
   "cell_type": "code",
   "execution_count": 4,
   "metadata": {},
   "outputs": [
    {
     "data": {
      "text/plain": [
       "2000    3354\n",
       "2005    3015\n",
       "1999    3000\n",
       "2004    2737\n",
       "2003    2727\n",
       "        ... \n",
       "1939       1\n",
       "1938       1\n",
       "1931       1\n",
       "1929       1\n",
       "1927       1\n",
       "Name: registration_year, Length: 81, dtype: int64"
      ]
     },
     "execution_count": 4,
     "metadata": {},
     "output_type": "execute_result"
    }
   ],
   "source": [
    "# cleanup step 3: remove unusual data\n",
    "autos.describe(include=\"all\")\n",
    "\n",
    "#yearOfRegistration\n",
    "autos[\"registration_year\"].unique()\n",
    "# remove data thats not between [1885,2020] (the first car was made in 1885)\n",
    "autos.loc[(autos[\"registration_year\"]<1885)|(autos[\"registration_year\"]>2020),\"registration_year\"] = \"year unknown\"\n",
    "autos.drop(autos[autos[\"registration_year\"]==\"year unknown\"].index,inplace=True)\n",
    "\n",
    "# check the clean data again\n",
    "autos[\"registration_year\"].value_counts()\n"
   ]
  },
  {
   "cell_type": "code",
   "execution_count": 5,
   "metadata": {},
   "outputs": [
    {
     "data": {
      "text/plain": [
       "3     5070\n",
       "6     4367\n",
       "5     4107\n",
       "4     4102\n",
       "7     3947\n",
       "10    3651\n",
       "12    3446\n",
       "9     3389\n",
       "11    3359\n",
       "1     3282\n",
       "8     3191\n",
       "2     3005\n",
       "Name: registration_month, dtype: int64"
      ]
     },
     "execution_count": 5,
     "metadata": {},
     "output_type": "execute_result"
    }
   ],
   "source": [
    "# monthOfRegistration\n",
    "\n",
    "autos[\"registration_month\"].value_counts()\n",
    "\n",
    "# drop the rows with month \"0\"\n",
    "autos.drop(autos[autos[\"registration_month\"]==0].index, inplace=True)\n",
    "\n",
    "autos[\"registration_month\"].value_counts()"
   ]
  },
  {
   "cell_type": "code",
   "execution_count": 6,
   "metadata": {},
   "outputs": [
    {
     "data": {
      "text/plain": [
       "1500     633\n",
       "500      630\n",
       "2500     569\n",
       "1200     543\n",
       "1000     513\n",
       "        ... \n",
       "2651       1\n",
       "4335       1\n",
       "22790      1\n",
       "269        1\n",
       "5485       1\n",
       "Name: price, Length: 2316, dtype: int64"
      ]
     },
     "execution_count": 6,
     "metadata": {},
     "output_type": "execute_result"
    }
   ],
   "source": [
    "# price column\n",
    "\n",
    "autos[\"price\"].unique().shape\n",
    "autos[\"price\"].describe()\n",
    "autos[\"price\"].value_counts()\n",
    "\n",
    "# remove all the \"o\" price rows\n",
    "autos.drop(autos[autos[\"price\"]==0].index,inplace=True)\n",
    "\n",
    "autos[\"price\"].value_counts()"
   ]
  },
  {
   "cell_type": "code",
   "execution_count": 7,
   "metadata": {},
   "outputs": [
    {
     "data": {
      "text/plain": [
       "Index(['date_crawled', 'name', 'seller', 'offer_type', 'price_$', 'abtest',\n",
       "       'vehicle_type', 'registration_year', 'gearbox', 'powerPS', 'model',\n",
       "       'odometer_km', 'registration_month', 'fuel_type', 'brand',\n",
       "       'unrepaired_damage', 'ad_created', 'nr_of_pictures', 'postal_code',\n",
       "       'last_seen'],\n",
       "      dtype='object')"
      ]
     },
     "execution_count": 7,
     "metadata": {},
     "output_type": "execute_result"
    }
   ],
   "source": [
    "# rename the columns: \n",
    "\n",
    "autos.rename({\"price\":\"price_$\"},axis=1, inplace=True)\n",
    "autos.rename({\"odometer\":\"odometer_km\"},axis=1, inplace=True)\n",
    "\n",
    "autos.columns\n",
    "\n"
   ]
  },
  {
   "cell_type": "code",
   "execution_count": 8,
   "metadata": {},
   "outputs": [
    {
     "data": {
      "text/plain": [
       "49999    2016-03-13\n",
       "49998    2016-03-08\n",
       "49997    2016-04-02\n",
       "49996    2016-03-28\n",
       "49995    2016-03-27\n",
       "            ...    \n",
       "4        2016-04-01\n",
       "3        2016-03-12\n",
       "2        2016-03-26\n",
       "1        2016-04-04\n",
       "0        2016-03-26\n",
       "Name: ad_created, Length: 44089, dtype: object"
      ]
     },
     "execution_count": 8,
     "metadata": {},
     "output_type": "execute_result"
    }
   ],
   "source": [
    "# cleanup step 4: date_crawled, last_seen, and ad_created columns: convert value from str to num\n",
    "autos[[\"date_crawled\",\"last_seen\",\"ad_created\"]][:5]\n",
    "\n",
    "# understand the distribution\n",
    "autos[\"date_crawled\"].str[:10].value_counts(normalize=True,dropna=False)\n",
    "autos[\"ad_created\"].str[:10].value_counts(normalize=True,dropna=False)\n",
    "autos[\"ad_created\"].str[:10].sort_index(ascending=False)\n"
   ]
  },
  {
   "cell_type": "markdown",
   "metadata": {},
   "source": [
    "# question 1: what brand is most popular (by nums of ads posted) during this time on ebay? what model?\n",
    "\n",
    "`brand`, `name`"
   ]
  },
  {
   "cell_type": "code",
   "execution_count": 9,
   "metadata": {},
   "outputs": [
    {
     "data": {
      "text/html": [
       "<div>\n",
       "<style scoped>\n",
       "    .dataframe tbody tr th:only-of-type {\n",
       "        vertical-align: middle;\n",
       "    }\n",
       "\n",
       "    .dataframe tbody tr th {\n",
       "        vertical-align: top;\n",
       "    }\n",
       "\n",
       "    .dataframe thead th {\n",
       "        text-align: right;\n",
       "    }\n",
       "</style>\n",
       "<table border=\"1\" class=\"dataframe\">\n",
       "  <thead>\n",
       "    <tr style=\"text-align: right;\">\n",
       "      <th></th>\n",
       "      <th>date_crawled</th>\n",
       "      <th>name</th>\n",
       "      <th>seller</th>\n",
       "      <th>offer_type</th>\n",
       "      <th>price_$</th>\n",
       "      <th>abtest</th>\n",
       "      <th>vehicle_type</th>\n",
       "      <th>registration_year</th>\n",
       "      <th>gearbox</th>\n",
       "      <th>powerPS</th>\n",
       "      <th>model</th>\n",
       "      <th>odometer_km</th>\n",
       "      <th>registration_month</th>\n",
       "      <th>fuel_type</th>\n",
       "      <th>brand</th>\n",
       "      <th>unrepaired_damage</th>\n",
       "      <th>ad_created</th>\n",
       "      <th>nr_of_pictures</th>\n",
       "      <th>postal_code</th>\n",
       "      <th>last_seen</th>\n",
       "    </tr>\n",
       "  </thead>\n",
       "  <tbody>\n",
       "    <tr>\n",
       "      <td>0</td>\n",
       "      <td>2016-03-26 17:47:46</td>\n",
       "      <td>Peugeot_807_160_NAVTECH_ON_BOARD</td>\n",
       "      <td>privat</td>\n",
       "      <td>Angebot</td>\n",
       "      <td>5000</td>\n",
       "      <td>control</td>\n",
       "      <td>bus</td>\n",
       "      <td>2004</td>\n",
       "      <td>manuell</td>\n",
       "      <td>158</td>\n",
       "      <td>andere</td>\n",
       "      <td>150000</td>\n",
       "      <td>3</td>\n",
       "      <td>lpg</td>\n",
       "      <td>peugeot</td>\n",
       "      <td>nein</td>\n",
       "      <td>2016-03-26 00:00:00</td>\n",
       "      <td>0</td>\n",
       "      <td>79588</td>\n",
       "      <td>2016-04-06 06:45:54</td>\n",
       "    </tr>\n",
       "    <tr>\n",
       "      <td>1</td>\n",
       "      <td>2016-04-04 13:38:56</td>\n",
       "      <td>BMW_740i_4_4_Liter_HAMANN_UMBAU_Mega_Optik</td>\n",
       "      <td>privat</td>\n",
       "      <td>Angebot</td>\n",
       "      <td>8500</td>\n",
       "      <td>control</td>\n",
       "      <td>limousine</td>\n",
       "      <td>1997</td>\n",
       "      <td>automatik</td>\n",
       "      <td>286</td>\n",
       "      <td>7er</td>\n",
       "      <td>150000</td>\n",
       "      <td>6</td>\n",
       "      <td>benzin</td>\n",
       "      <td>bmw</td>\n",
       "      <td>nein</td>\n",
       "      <td>2016-04-04 00:00:00</td>\n",
       "      <td>0</td>\n",
       "      <td>71034</td>\n",
       "      <td>2016-04-06 14:45:08</td>\n",
       "    </tr>\n",
       "    <tr>\n",
       "      <td>2</td>\n",
       "      <td>2016-03-26 18:57:24</td>\n",
       "      <td>Volkswagen_Golf_1.6_United</td>\n",
       "      <td>privat</td>\n",
       "      <td>Angebot</td>\n",
       "      <td>8990</td>\n",
       "      <td>test</td>\n",
       "      <td>limousine</td>\n",
       "      <td>2009</td>\n",
       "      <td>manuell</td>\n",
       "      <td>102</td>\n",
       "      <td>golf</td>\n",
       "      <td>70000</td>\n",
       "      <td>7</td>\n",
       "      <td>benzin</td>\n",
       "      <td>volkswagen</td>\n",
       "      <td>nein</td>\n",
       "      <td>2016-03-26 00:00:00</td>\n",
       "      <td>0</td>\n",
       "      <td>35394</td>\n",
       "      <td>2016-04-06 20:15:37</td>\n",
       "    </tr>\n",
       "    <tr>\n",
       "      <td>3</td>\n",
       "      <td>2016-03-12 16:58:10</td>\n",
       "      <td>Smart_smart_fortwo_coupe_softouch/F1/Klima/Pan...</td>\n",
       "      <td>privat</td>\n",
       "      <td>Angebot</td>\n",
       "      <td>4350</td>\n",
       "      <td>control</td>\n",
       "      <td>kleinwagen</td>\n",
       "      <td>2007</td>\n",
       "      <td>automatik</td>\n",
       "      <td>71</td>\n",
       "      <td>fortwo</td>\n",
       "      <td>70000</td>\n",
       "      <td>6</td>\n",
       "      <td>benzin</td>\n",
       "      <td>smart</td>\n",
       "      <td>nein</td>\n",
       "      <td>2016-03-12 00:00:00</td>\n",
       "      <td>0</td>\n",
       "      <td>33729</td>\n",
       "      <td>2016-03-15 03:16:28</td>\n",
       "    </tr>\n",
       "    <tr>\n",
       "      <td>4</td>\n",
       "      <td>2016-04-01 14:38:50</td>\n",
       "      <td>Ford_Focus_1_6_Benzin_TÜV_neu_ist_sehr_gepfleg...</td>\n",
       "      <td>privat</td>\n",
       "      <td>Angebot</td>\n",
       "      <td>1350</td>\n",
       "      <td>test</td>\n",
       "      <td>kombi</td>\n",
       "      <td>2003</td>\n",
       "      <td>manuell</td>\n",
       "      <td>0</td>\n",
       "      <td>focus</td>\n",
       "      <td>150000</td>\n",
       "      <td>7</td>\n",
       "      <td>benzin</td>\n",
       "      <td>ford</td>\n",
       "      <td>nein</td>\n",
       "      <td>2016-04-01 00:00:00</td>\n",
       "      <td>0</td>\n",
       "      <td>39218</td>\n",
       "      <td>2016-04-01 14:38:50</td>\n",
       "    </tr>\n",
       "  </tbody>\n",
       "</table>\n",
       "</div>"
      ],
      "text/plain": [
       "          date_crawled                                               name  \\\n",
       "0  2016-03-26 17:47:46                   Peugeot_807_160_NAVTECH_ON_BOARD   \n",
       "1  2016-04-04 13:38:56         BMW_740i_4_4_Liter_HAMANN_UMBAU_Mega_Optik   \n",
       "2  2016-03-26 18:57:24                         Volkswagen_Golf_1.6_United   \n",
       "3  2016-03-12 16:58:10  Smart_smart_fortwo_coupe_softouch/F1/Klima/Pan...   \n",
       "4  2016-04-01 14:38:50  Ford_Focus_1_6_Benzin_TÜV_neu_ist_sehr_gepfleg...   \n",
       "\n",
       "   seller offer_type  price_$   abtest vehicle_type registration_year  \\\n",
       "0  privat    Angebot     5000  control          bus              2004   \n",
       "1  privat    Angebot     8500  control    limousine              1997   \n",
       "2  privat    Angebot     8990     test    limousine              2009   \n",
       "3  privat    Angebot     4350  control   kleinwagen              2007   \n",
       "4  privat    Angebot     1350     test        kombi              2003   \n",
       "\n",
       "     gearbox  powerPS   model  odometer_km  registration_month fuel_type  \\\n",
       "0    manuell      158  andere       150000                   3       lpg   \n",
       "1  automatik      286     7er       150000                   6    benzin   \n",
       "2    manuell      102    golf        70000                   7    benzin   \n",
       "3  automatik       71  fortwo        70000                   6    benzin   \n",
       "4    manuell        0   focus       150000                   7    benzin   \n",
       "\n",
       "        brand unrepaired_damage           ad_created  nr_of_pictures  \\\n",
       "0     peugeot              nein  2016-03-26 00:00:00               0   \n",
       "1         bmw              nein  2016-04-04 00:00:00               0   \n",
       "2  volkswagen              nein  2016-03-26 00:00:00               0   \n",
       "3       smart              nein  2016-03-12 00:00:00               0   \n",
       "4        ford              nein  2016-04-01 00:00:00               0   \n",
       "\n",
       "   postal_code            last_seen  \n",
       "0        79588  2016-04-06 06:45:54  \n",
       "1        71034  2016-04-06 14:45:08  \n",
       "2        35394  2016-04-06 20:15:37  \n",
       "3        33729  2016-03-15 03:16:28  \n",
       "4        39218  2016-04-01 14:38:50  "
      ]
     },
     "execution_count": 9,
     "metadata": {},
     "output_type": "execute_result"
    }
   ],
   "source": [
    "autos.head()"
   ]
  },
  {
   "cell_type": "code",
   "execution_count": 10,
   "metadata": {
    "scrolled": true
   },
   "outputs": [
    {
     "data": {
      "text/plain": [
       "volkswagen        9240\n",
       "bmw               4896\n",
       "opel              4620\n",
       "mercedes_benz     4357\n",
       "audi              3852\n",
       "ford              3032\n",
       "renault           2073\n",
       "peugeot           1305\n",
       "fiat              1131\n",
       "seat               836\n",
       "skoda              741\n",
       "nissan             687\n",
       "mazda              656\n",
       "smart              641\n",
       "citroen            617\n",
       "toyota             579\n",
       "hyundai            450\n",
       "volvo              407\n",
       "sonstige_autos     406\n",
       "mini               405\n",
       "mitsubishi         353\n",
       "honda              351\n",
       "kia                333\n",
       "alfa_romeo         290\n",
       "porsche            274\n",
       "suzuki             263\n",
       "chevrolet          252\n",
       "chrysler           152\n",
       "dacia              121\n",
       "daihatsu           103\n",
       "jeep               102\n",
       "land_rover          93\n",
       "subaru              87\n",
       "saab                75\n",
       "daewoo              69\n",
       "jaguar              68\n",
       "rover               58\n",
       "lancia              47\n",
       "trabant             43\n",
       "lada                24\n",
       "Name: brand, dtype: int64"
      ]
     },
     "execution_count": 10,
     "metadata": {},
     "output_type": "execute_result"
    }
   ],
   "source": [
    "autos[\"brand\"].value_counts()"
   ]
  },
  {
   "cell_type": "markdown",
   "metadata": {},
   "source": [
    "### Top 5 popular brand sold on Ebay:\n",
    "\n",
    "volkswagen        9240\n",
    "\n",
    "bmw               4896\n",
    "\n",
    "opel              4620\n",
    "\n",
    "mercedes_benz     4357\n",
    "\n",
    "audi              3852\n",
    "\n"
   ]
  },
  {
   "cell_type": "code",
   "execution_count": 11,
   "metadata": {},
   "outputs": [
    {
     "data": {
      "text/plain": [
       "a4        1159\n",
       "a3         811\n",
       "a6         768\n",
       "andere     213\n",
       "80         167\n",
       "tt         138\n",
       "a5         127\n",
       "a1          84\n",
       "a8          68\n",
       "q5          62\n",
       "100         49\n",
       "a2          43\n",
       "q7          42\n",
       "q3          28\n",
       "90           6\n",
       "200          1\n",
       "Name: model, dtype: int64"
      ]
     },
     "execution_count": 11,
     "metadata": {},
     "output_type": "execute_result"
    }
   ],
   "source": [
    "# the most popular model in each top 5 brand:\n",
    "autos.loc[autos[\"brand\"]==\"volkswagen\",\"model\"].value_counts() #golf\n",
    "autos.loc[autos[\"brand\"]==\"bmw\",\"model\"].value_counts() #3er\n",
    "autos.loc[autos[\"brand\"]==\"opel\",\"model\"].value_counts() #corsa\n",
    "autos.loc[autos[\"brand\"]==\"mercedes_benz\",\"model\"].value_counts() #c_klasse\n",
    "autos.loc[autos[\"brand\"]==\"audi\",\"model\"].value_counts() #a4"
   ]
  },
  {
   "cell_type": "markdown",
   "metadata": {},
   "source": [
    "## question 1 summary: "
   ]
  },
  {
   "cell_type": "markdown",
   "metadata": {},
   "source": [
    "### The top five brand sold (and the most popular model) on Ebay was: \n",
    "1. volkswagen -golf\n",
    "2. bmw - 3er\n",
    "3. opel - corsa\n",
    "4. mercedes benz - c_klasse\n",
    "5. audi -a4"
   ]
  },
  {
   "cell_type": "markdown",
   "metadata": {},
   "source": [
    "# question 2: analyze the a/b test ad result\n"
   ]
  },
  {
   "cell_type": "code",
   "execution_count": 12,
   "metadata": {},
   "outputs": [
    {
     "data": {
      "text/plain": [
       "test       22700\n",
       "control    21389\n",
       "Name: abtest, dtype: int64"
      ]
     },
     "execution_count": 12,
     "metadata": {},
     "output_type": "execute_result"
    }
   ],
   "source": [
    "autos[\"abtest\"].unique()\n",
    "\n",
    "\n",
    "# see how many ads are being tested\n",
    "autos[\"abtest\"].value_counts()\n",
    "\n"
   ]
  },
  {
   "cell_type": "markdown",
   "metadata": {},
   "source": [
    "### there are only two a/b testing groups (test and control) in our dataset, and the percentage of test/control group is around 50/50 - therefore the a/b test dataset is reliable.\n",
    "\n",
    "Next, we'll see how a/b test impact how fast the car is sold (last_seen - first_crawled)\n"
   ]
  },
  {
   "cell_type": "code",
   "execution_count": 13,
   "metadata": {},
   "outputs": [],
   "source": [
    "\n",
    "# figure out the lastest crawling day in the database:\n",
    "autos[\"date_crawled\"].str[:10].unique().max()\n",
    "\n",
    "# filter out only \"sold car\" data\n",
    "sold_car_filter = autos[\"last_seen\"].str[:10]!= \"2016-04-07\"\n",
    "sold_car_table = autos.loc[sold_car_filter]\n",
    "#print(sold_car_table)\n"
   ]
  },
  {
   "cell_type": "markdown",
   "metadata": {},
   "source": [
    "### the latest day the data is crawled is 2016-04-07, so:\n",
    "- if the ad is still seen on this day, we'll consider the car as \"not sold\";\n",
    "- if the ad is seen before this day, which means it is removed already, we'll consider the car as \"sold\"\n",
    "\n",
    "We've filtered out the sold car data and next, we'll convert `date crawled` and `last seen` to datetime object, and calcuate the timedelta to add new column: `sold_in_days`\n"
   ]
  },
  {
   "cell_type": "code",
   "execution_count": 65,
   "metadata": {},
   "outputs": [],
   "source": [
    "import datetime as dt\n",
    "import pandas as pd\n",
    "\n",
    "# because we only care about the date of the ad crawling, we'll remove the time data in the two columns \n",
    "# and convert the two columns into datetime object\n",
    "autos[\"date_crawled\"] = pd.to_datetime(autos[\"date_crawled\"].str[:10])\n",
    "autos[\"last_seen\"] = pd.to_datetime(autos[\"last_seen\"].str[:10])\n",
    "\n"
   ]
  },
  {
   "cell_type": "code",
   "execution_count": 85,
   "metadata": {},
   "outputs": [
    {
     "data": {
      "text/plain": [
       "0 days     6267\n",
       "2 days     4641\n",
       "4 days     3338\n",
       "6 days     2491\n",
       "1 days     2402\n",
       "3 days     2160\n",
       "8 days     2045\n",
       "9 days     1618\n",
       "11 days    1500\n",
       "7 days     1486\n",
       "5 days     1460\n",
       "10 days    1183\n",
       "13 days    1123\n",
       "12 days    1073\n",
       "14 days    1011\n",
       "15 days     970\n",
       "18 days     966\n",
       "16 days     846\n",
       "17 days     809\n",
       "22 days     742\n",
       "21 days     681\n",
       "24 days     563\n",
       "23 days     532\n",
       "19 days     511\n",
       "29 days     488\n",
       "27 days     487\n",
       "26 days     477\n",
       "20 days     473\n",
       "25 days     427\n",
       "31 days     399\n",
       "28 days     386\n",
       "30 days     310\n",
       "33 days     130\n",
       "32 days      94\n",
       "Name: sold_in_days, dtype: int64"
      ]
     },
     "execution_count": 85,
     "metadata": {},
     "output_type": "execute_result"
    }
   ],
   "source": [
    "#autos.info()\n",
    "\n",
    "# new column\n",
    "autos[\"sold_in_days\"] = autos[\"last_seen\"] - autos[\"date_crawled\"]\n",
    "autos.head()\n",
    "\n",
    "autos[\"sold_in_days\"].value_counts()"
   ]
  },
  {
   "cell_type": "code",
   "execution_count": 88,
   "metadata": {},
   "outputs": [
    {
     "data": {
      "text/plain": [
       "Timedelta('8 days 21:59:47.312775')"
      ]
     },
     "execution_count": 88,
     "metadata": {},
     "output_type": "execute_result"
    }
   ],
   "source": [
    "# mean of control/test group \n",
    "autos.loc[(autos[\"abtest\"]==\"test\")&~(autos[\"sold_in_days\"]==0),\"sold_in_days\"].mean()\n"
   ]
  },
  {
   "cell_type": "code",
   "execution_count": 89,
   "metadata": {},
   "outputs": [
    {
     "data": {
      "text/plain": [
       "Timedelta('8 days 18:27:29.109355')"
      ]
     },
     "execution_count": 89,
     "metadata": {},
     "output_type": "execute_result"
    }
   ],
   "source": [
    "autos.loc[(autos[\"abtest\"]==\"control\")&~(autos[\"sold_in_days\"]==0),\"sold_in_days\"].mean()"
   ]
  },
  {
   "cell_type": "markdown",
   "metadata": {},
   "source": [
    "## question 2 summary: "
   ]
  },
  {
   "cell_type": "markdown",
   "metadata": {},
   "source": [
    "there is no significant difference between the time a car is getting sold from the impact of a/b testing."
   ]
  },
  {
   "cell_type": "markdown",
   "metadata": {},
   "source": [
    "## Question 3: How much cheaper are cars with damage than their non-damaged counterparts?"
   ]
  },
  {
   "cell_type": "code",
   "execution_count": 15,
   "metadata": {},
   "outputs": [
    {
     "data": {
      "text/html": [
       "<div>\n",
       "<style scoped>\n",
       "    .dataframe tbody tr th:only-of-type {\n",
       "        vertical-align: middle;\n",
       "    }\n",
       "\n",
       "    .dataframe tbody tr th {\n",
       "        vertical-align: top;\n",
       "    }\n",
       "\n",
       "    .dataframe thead th {\n",
       "        text-align: right;\n",
       "    }\n",
       "</style>\n",
       "<table border=\"1\" class=\"dataframe\">\n",
       "  <thead>\n",
       "    <tr style=\"text-align: right;\">\n",
       "      <th></th>\n",
       "      <th>date_crawled</th>\n",
       "      <th>name</th>\n",
       "      <th>seller</th>\n",
       "      <th>offer_type</th>\n",
       "      <th>price_$</th>\n",
       "      <th>abtest</th>\n",
       "      <th>vehicle_type</th>\n",
       "      <th>registration_year</th>\n",
       "      <th>gearbox</th>\n",
       "      <th>powerPS</th>\n",
       "      <th>model</th>\n",
       "      <th>odometer_km</th>\n",
       "      <th>registration_month</th>\n",
       "      <th>fuel_type</th>\n",
       "      <th>brand</th>\n",
       "      <th>unrepaired_damage</th>\n",
       "      <th>ad_created</th>\n",
       "      <th>nr_of_pictures</th>\n",
       "      <th>postal_code</th>\n",
       "      <th>last_seen</th>\n",
       "    </tr>\n",
       "  </thead>\n",
       "  <tbody>\n",
       "    <tr>\n",
       "      <td>0</td>\n",
       "      <td>2016-03-26</td>\n",
       "      <td>Peugeot_807_160_NAVTECH_ON_BOARD</td>\n",
       "      <td>privat</td>\n",
       "      <td>Angebot</td>\n",
       "      <td>5000</td>\n",
       "      <td>control</td>\n",
       "      <td>bus</td>\n",
       "      <td>2004</td>\n",
       "      <td>manuell</td>\n",
       "      <td>158</td>\n",
       "      <td>andere</td>\n",
       "      <td>150000</td>\n",
       "      <td>3</td>\n",
       "      <td>lpg</td>\n",
       "      <td>peugeot</td>\n",
       "      <td>nein</td>\n",
       "      <td>2016-03-26 00:00:00</td>\n",
       "      <td>0</td>\n",
       "      <td>79588</td>\n",
       "      <td>2016-04-06</td>\n",
       "    </tr>\n",
       "    <tr>\n",
       "      <td>1</td>\n",
       "      <td>2016-04-04</td>\n",
       "      <td>BMW_740i_4_4_Liter_HAMANN_UMBAU_Mega_Optik</td>\n",
       "      <td>privat</td>\n",
       "      <td>Angebot</td>\n",
       "      <td>8500</td>\n",
       "      <td>control</td>\n",
       "      <td>limousine</td>\n",
       "      <td>1997</td>\n",
       "      <td>automatik</td>\n",
       "      <td>286</td>\n",
       "      <td>7er</td>\n",
       "      <td>150000</td>\n",
       "      <td>6</td>\n",
       "      <td>benzin</td>\n",
       "      <td>bmw</td>\n",
       "      <td>nein</td>\n",
       "      <td>2016-04-04 00:00:00</td>\n",
       "      <td>0</td>\n",
       "      <td>71034</td>\n",
       "      <td>2016-04-06</td>\n",
       "    </tr>\n",
       "    <tr>\n",
       "      <td>2</td>\n",
       "      <td>2016-03-26</td>\n",
       "      <td>Volkswagen_Golf_1.6_United</td>\n",
       "      <td>privat</td>\n",
       "      <td>Angebot</td>\n",
       "      <td>8990</td>\n",
       "      <td>test</td>\n",
       "      <td>limousine</td>\n",
       "      <td>2009</td>\n",
       "      <td>manuell</td>\n",
       "      <td>102</td>\n",
       "      <td>golf</td>\n",
       "      <td>70000</td>\n",
       "      <td>7</td>\n",
       "      <td>benzin</td>\n",
       "      <td>volkswagen</td>\n",
       "      <td>nein</td>\n",
       "      <td>2016-03-26 00:00:00</td>\n",
       "      <td>0</td>\n",
       "      <td>35394</td>\n",
       "      <td>2016-04-06</td>\n",
       "    </tr>\n",
       "    <tr>\n",
       "      <td>3</td>\n",
       "      <td>2016-03-12</td>\n",
       "      <td>Smart_smart_fortwo_coupe_softouch/F1/Klima/Pan...</td>\n",
       "      <td>privat</td>\n",
       "      <td>Angebot</td>\n",
       "      <td>4350</td>\n",
       "      <td>control</td>\n",
       "      <td>kleinwagen</td>\n",
       "      <td>2007</td>\n",
       "      <td>automatik</td>\n",
       "      <td>71</td>\n",
       "      <td>fortwo</td>\n",
       "      <td>70000</td>\n",
       "      <td>6</td>\n",
       "      <td>benzin</td>\n",
       "      <td>smart</td>\n",
       "      <td>nein</td>\n",
       "      <td>2016-03-12 00:00:00</td>\n",
       "      <td>0</td>\n",
       "      <td>33729</td>\n",
       "      <td>2016-03-15</td>\n",
       "    </tr>\n",
       "    <tr>\n",
       "      <td>4</td>\n",
       "      <td>2016-04-01</td>\n",
       "      <td>Ford_Focus_1_6_Benzin_TÜV_neu_ist_sehr_gepfleg...</td>\n",
       "      <td>privat</td>\n",
       "      <td>Angebot</td>\n",
       "      <td>1350</td>\n",
       "      <td>test</td>\n",
       "      <td>kombi</td>\n",
       "      <td>2003</td>\n",
       "      <td>manuell</td>\n",
       "      <td>0</td>\n",
       "      <td>focus</td>\n",
       "      <td>150000</td>\n",
       "      <td>7</td>\n",
       "      <td>benzin</td>\n",
       "      <td>ford</td>\n",
       "      <td>nein</td>\n",
       "      <td>2016-04-01 00:00:00</td>\n",
       "      <td>0</td>\n",
       "      <td>39218</td>\n",
       "      <td>2016-04-01</td>\n",
       "    </tr>\n",
       "  </tbody>\n",
       "</table>\n",
       "</div>"
      ],
      "text/plain": [
       "  date_crawled                                               name  seller  \\\n",
       "0   2016-03-26                   Peugeot_807_160_NAVTECH_ON_BOARD  privat   \n",
       "1   2016-04-04         BMW_740i_4_4_Liter_HAMANN_UMBAU_Mega_Optik  privat   \n",
       "2   2016-03-26                         Volkswagen_Golf_1.6_United  privat   \n",
       "3   2016-03-12  Smart_smart_fortwo_coupe_softouch/F1/Klima/Pan...  privat   \n",
       "4   2016-04-01  Ford_Focus_1_6_Benzin_TÜV_neu_ist_sehr_gepfleg...  privat   \n",
       "\n",
       "  offer_type  price_$   abtest vehicle_type registration_year    gearbox  \\\n",
       "0    Angebot     5000  control          bus              2004    manuell   \n",
       "1    Angebot     8500  control    limousine              1997  automatik   \n",
       "2    Angebot     8990     test    limousine              2009    manuell   \n",
       "3    Angebot     4350  control   kleinwagen              2007  automatik   \n",
       "4    Angebot     1350     test        kombi              2003    manuell   \n",
       "\n",
       "   powerPS   model  odometer_km  registration_month fuel_type       brand  \\\n",
       "0      158  andere       150000                   3       lpg     peugeot   \n",
       "1      286     7er       150000                   6    benzin         bmw   \n",
       "2      102    golf        70000                   7    benzin  volkswagen   \n",
       "3       71  fortwo        70000                   6    benzin       smart   \n",
       "4        0   focus       150000                   7    benzin        ford   \n",
       "\n",
       "  unrepaired_damage           ad_created  nr_of_pictures  postal_code  \\\n",
       "0              nein  2016-03-26 00:00:00               0        79588   \n",
       "1              nein  2016-04-04 00:00:00               0        71034   \n",
       "2              nein  2016-03-26 00:00:00               0        35394   \n",
       "3              nein  2016-03-12 00:00:00               0        33729   \n",
       "4              nein  2016-04-01 00:00:00               0        39218   \n",
       "\n",
       "    last_seen  \n",
       "0  2016-04-06  \n",
       "1  2016-04-06  \n",
       "2  2016-04-06  \n",
       "3  2016-03-15  \n",
       "4  2016-04-01  "
      ]
     },
     "execution_count": 15,
     "metadata": {},
     "output_type": "execute_result"
    }
   ],
   "source": [
    "autos.head()"
   ]
  },
  {
   "cell_type": "code",
   "execution_count": 36,
   "metadata": {},
   "outputs": [
    {
     "data": {
      "text/plain": [
       "2634.4069539666993"
      ]
     },
     "execution_count": 36,
     "metadata": {},
     "output_type": "execute_result"
    }
   ],
   "source": [
    "# `unrepaired_damage` & `price_$`, controlled by `brand`\n",
    "# check unique values in `unrepaired_damage`\n",
    "autos[\"unrepaired_damage\"].value_counts()\n",
    "autos.loc[autos[\"unrepaired_damage\"]==\"ja\"]\n",
    "autos.loc[autos[\"unrepaired_damage\"]==\"ja\",\"price_$\"].mean()\n"
   ]
  },
  {
   "cell_type": "code",
   "execution_count": 46,
   "metadata": {},
   "outputs": [
    {
     "data": {
      "text/plain": [
       "3772.7602179836513"
      ]
     },
     "execution_count": 46,
     "metadata": {},
     "output_type": "execute_result"
    }
   ],
   "source": [
    "autos.loc[(autos[\"unrepaired_damage\"]==\"ja\")&(autos[\"brand\"]==\"bmw\")][\"price_$\"].mean()"
   ]
  },
  {
   "cell_type": "code",
   "execution_count": 50,
   "metadata": {},
   "outputs": [
    {
     "data": {
      "text/plain": [
       "{'peugeot': 2204.0905258727344,\n",
       " 'bmw': 5740.96566256765,\n",
       " 'volkswagen': 2883.2737000861825,\n",
       " 'smart': 2462.6157928046346,\n",
       " 'ford': 8904.26399789904,\n",
       " 'chrysler': 1774.9727272727273,\n",
       " 'seat': 3412.064716546436,\n",
       " 'renault': 1884.7014573945519,\n",
       " 'audi': 7460.713814518054,\n",
       " 'sonstige_autos': 59867.76634408603,\n",
       " 'opel': 5962.061841403228,\n",
       " 'mazda': 3717.048232848233,\n",
       " 'porsche': 36455.256097560974,\n",
       " 'mini': 6543.88948787062,\n",
       " 'mercedes_benz': 5747.573146471577,\n",
       " 'toyota': 2084.91743697479,\n",
       " 'dacia': 1757.791666666667,\n",
       " 'nissan': 3770.6590446152836,\n",
       " 'jeep': 9462.720238095239,\n",
       " 'saab': 3348.6336206896553,\n",
       " 'volvo': 42978.07057188825,\n",
       " 'mitsubishi': 2806.7755244755244,\n",
       " 'jaguar': 9124.732142857143,\n",
       " 'fiat': 2269.8045917187137,\n",
       " 'skoda': 3559.498809937026,\n",
       " 'subaru': 2594.2566585956415,\n",
       " 'kia': 4893.103361344538,\n",
       " 'citroen': 2313.758779631256,\n",
       " 'chevrolet': 4001.758491652274,\n",
       " 'hyundai': 3399.700992110925,\n",
       " 'honda': 3456.5464429947187,\n",
       " 'daewoo': 657.6565217391305,\n",
       " 'suzuki': 3437.327014218009,\n",
       " 'trabant': 2274.51,\n",
       " 'land_rover': 16464.76282051282,\n",
       " 'alfa_romeo': 2796.85951045385,\n",
       " 'daihatsu': 1050.4335443037974,\n",
       " 'rover': 1073.7571428571428,\n",
       " 'lancia': -141.3142857142857,\n",
       " 'lada': 1664.4117647058824}"
      ]
     },
     "execution_count": 50,
     "metadata": {},
     "output_type": "execute_result"
    }
   ],
   "source": [
    "allBrands= autos[\"brand\"].unique()\n",
    "price_comparison = {} # { price diff :brand name} (for each brand, mean nein - mean ja)\n",
    "\n",
    "def calPriceDiff(brandName):\n",
    "    jaMean = autos.loc[(autos[\"unrepaired_damage\"]==\"ja\")&(autos[\"brand\"]==brandName)][\"price_$\"].mean()\n",
    "    neinMean = autos.loc[(autos[\"unrepaired_damage\"]==\"nein\")&(autos[\"brand\"]==brandName)][\"price_$\"].mean()\n",
    "    return neinMean - jaMean\n",
    "\n",
    "for brand in allBrands: \n",
    "    price_comparison[brand] = calPriceDiff(brand)\n",
    "\n",
    "price_comparison"
   ]
  },
  {
   "cell_type": "markdown",
   "metadata": {},
   "source": [
    "## question 3 summary: "
   ]
  },
  {
   "cell_type": "markdown",
   "metadata": {},
   "source": [
    "####  The dictionary above showed how much cheaper the damaged car cost on ebay compared to their counterparts. \n",
    "\n",
    "#### The top 3 car model with the biggest price difference are: \n",
    "1. sonstige_autos\n",
    "2. volvo\n",
    "3. porsche\n",
    "\n",
    "#### The top 3 car model with the least price difference are:\n",
    "1. lancia - with negative difference\n",
    "2. rover\n",
    "3. lada"
   ]
  },
  {
   "cell_type": "markdown",
   "metadata": {},
   "source": [
    "##  Question 4: Split the odometer_km into groups, and use aggregation to see if average prices follows any patterns based on the milage."
   ]
  },
  {
   "cell_type": "code",
   "execution_count": 62,
   "metadata": {},
   "outputs": [
    {
     "data": {
      "text/plain": [
       "{150000: 8489.035375846099,\n",
       " 70000: 11173.007751937985,\n",
       " 50000: 26763.701232032854,\n",
       " 80000: 9853.878497790869,\n",
       " 10000: 21841.28,\n",
       " 30000: 16896.993368700267,\n",
       " 125000: 6540.04777941486,\n",
       " 90000: 8646.94890510949,\n",
       " 20000: 18792.94368131868,\n",
       " 60000: 12528.10242587601,\n",
       " 5000: 18530.27504553734,\n",
       " 40000: 49920.103274559195,\n",
       " 100000: 13411.388211382115}"
      ]
     },
     "execution_count": 62,
     "metadata": {},
     "output_type": "execute_result"
    }
   ],
   "source": [
    "# understand the range of `odometer_km`\n",
    "odometer_unique = autos[\"odometer_km\"].unique()\n",
    "\n",
    "# avg price for each odometer group\n",
    "def avg_price_odometer(car_odometer):\n",
    "    return autos.loc[autos[\"odometer_km\"]==car_odometer,\"price_$\"].mean()\n",
    "\n",
    "price_by_odometer = {}\n",
    "for odometer in odometer_unique:\n",
    "    price_by_odometer[odometer] = avg_price_odometer(odometer)\n",
    "    \n",
    "price_by_odometer\n",
    "\n",
    "# to a linear regression chart to demonstrate"
   ]
  },
  {
   "cell_type": "code",
   "execution_count": 61,
   "metadata": {},
   "outputs": [
    {
     "data": {
      "text/plain": [
       "18530.27504553734"
      ]
     },
     "execution_count": 61,
     "metadata": {},
     "output_type": "execute_result"
    }
   ],
   "source": [
    "autos.head()\n",
    "# autos.iloc[0]\n"
   ]
  },
  {
   "cell_type": "code",
   "execution_count": 106,
   "metadata": {},
   "outputs": [
    {
     "data": {
      "image/png": "[encoded data removed]",
      "text/plain": [
       "<Figure size 432x288 with 1 Axes>"
      ]
     },
     "metadata": {
      "needs_background": "light"
     },
     "output_type": "display_data"
    }
   ],
   "source": [
    "# display by line chart\n",
    "import matplotlib.pyplot as plt\n",
    "\n",
    "\n",
    "x = [5000,10000,20000,30000,40000,50000,60000,70000,80000,90000,100000,125000,150000]\n",
    "y = [18530.27504553730,21841.28,18792.94368131870,16896.993368700300,49920.103274559200,26763.701232032900,12528.10242587600,11173.007751938000,9853.878497790870,8646.94890510949,13411.388211382100,6540.04777941486,8489.035375846100]\n",
    "plt.plot(x,y,color=\"green\",linewidth=2,markersize=30)\n",
    "plt.xlabel(\"odometer(km)\")\n",
    "plt.ylabel(\"price sold ($)\")\n",
    "plt.title(\"Car Price Sold by Odometer\")\n",
    "plt.show()"
   ]
  }
 ],
 "metadata": {
  "kernelspec": {
   "display_name": "Python 3",
   "language": "python",
   "name": "python3"
  },
  "language_info": {
   "codemirror_mode": {
    "name": "ipython",
    "version": 3
   },
   "file_extension": ".py",
   "mimetype": "text/x-python",
   "name": "python",
   "nbconvert_exporter": "python",
   "pygments_lexer": "ipython3",
   "version": "3.7.4"
  }
 },
 "nbformat": 4,
 "nbformat_minor": 2
}
